{
 "cells": [
  {
   "cell_type": "markdown",
   "metadata": {},
   "source": [
    "## How does forward passs work in simple linear regression."
   ]
  },
  {
   "cell_type": "code",
   "execution_count": 1,
   "metadata": {},
   "outputs": [],
   "source": [
    "import numpy as np\n",
    "import math\n",
    "import sklearn.datasets\n"
   ]
  },
  {
   "cell_type": "code",
   "execution_count": 23,
   "metadata": {},
   "outputs": [
    {
     "data": {
      "text/plain": [
       "4"
      ]
     },
     "execution_count": 23,
     "metadata": {},
     "output_type": "execute_result"
    }
   ],
   "source": [
    "inputs = [[1,4,5,6],\n",
    "[2,4,7,9],\n",
    "[4,1,8,1],\n",
    "[4,9,12,33]]\n",
    "\n",
    "# inputs = [[1,4,5,6]]\n",
    "\n",
    "weights = [[0.1, 0.1, 0.1, 0.1],\n",
    "[0.1, 0.1, 0.1, 0.1],\n",
    "[0.1, 0.1, 0.1, 0.1]]\n",
    "\n",
    "bias = 2\n",
    "\n",
    "batch = np.array(inputs)\n",
    "weights = np.array(weights)\n",
    "\n",
    "batch @ weights.T + bias\n",
    "\n",
    "batch.shape[1]"
   ]
  },
  {
   "cell_type": "code",
   "execution_count": null,
   "metadata": {},
   "outputs": [],
   "source": [
    "class DenseLayer():\n",
    "    def __init__(self, number_of_neurons, input):\n",
    "        if  input.shape[1] == 0:\n",
    "            raise Exception()\n",
    "        "
   ]
  }
 ],
 "metadata": {
  "kernelspec": {
   "display_name": "Python 3.10.6 ('venv': venv)",
   "language": "python",
   "name": "python3"
  },
  "language_info": {
   "codemirror_mode": {
    "name": "ipython",
    "version": 3
   },
   "file_extension": ".py",
   "mimetype": "text/x-python",
   "name": "python",
   "nbconvert_exporter": "python",
   "pygments_lexer": "ipython3",
   "version": "3.10.6"
  },
  "orig_nbformat": 4,
  "vscode": {
   "interpreter": {
    "hash": "a9c18dc6e4969fd9927ac0084b06b90f6849235936b0e2723a6842d549501fb6"
   }
  }
 },
 "nbformat": 4,
 "nbformat_minor": 2
}
